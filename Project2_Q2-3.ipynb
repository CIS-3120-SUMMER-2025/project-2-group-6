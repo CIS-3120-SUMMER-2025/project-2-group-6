{
  "nbformat": 4,
  "nbformat_minor": 0,
  "metadata": {
    "colab": {
      "provenance": []
    },
    "kernelspec": {
      "name": "python3",
      "display_name": "Python 3"
    },
    "language_info": {
      "name": "python"
    }
  },
  "cells": [
    {
      "cell_type": "code",
      "execution_count": 22,
      "metadata": {
        "id": "PWH_Kjr3oFwC"
      },
      "outputs": [],
      "source": [
        "import requests\n",
        "from bs4 import BeautifulSoup\n",
        "import pandas as pd\n",
        "import urllib3\n",
        "import math\n",
        "import numpy as np\n"
      ]
    },
    {
      "cell_type": "code",
      "source": [
        "# Set the URLs for vollyball team and swimming team\n",
        "volleyball_teams = {\n",
        "                  'mens_volleyball': [\"https://ccnyathletics.com/sports/mens-volleyball/roster\", \"https://lehmanathletics.com/sports/mens-volleyball/roster\", \"https://www.brooklyncollegeathletics.com/sports/mens-volleyball/roster\", \"https://johnjayathletics.com/sports/mens-volleyball/roster\", \"https://athletics.baruch.cuny.edu/sports/mens-volleyball/roster\", \"https://mecathletics.com/sports/mens-volleyball/rostser\", \"https://www.huntercollegeathletics.com/sports/mens-volleyball/roster\", \"https://yorkathletics.com/sports/mens-volleyball/roster\"],\n",
        "                  'womens_volleyball': [\"https://bmccathletics.com/sports/womens-volleyball/roster\", \"https://yorkathletics.com/sports/womens-volleyball/roster\", \"https://hostosathletics.com/sports/womens-volleyball/roster\", \"https://bronxbroncos.com/sports/womens-volleyball/roster/2021\", \"https://queensknights.com/sports/womens-volleyball/roster\", \"https://augustajags.com/sports/wvball/roster\", \"https://flaglerathletics.com/sports/womens-volleyball/roster\", \"https://pacersports.com/sports/womens-volleyball/roster\", \"https://www.golhu.com/sports/womens-volleyball/roster\"]\n",
        "\n",
        "                }\n",
        "\n",
        "swimming_teams = {\n",
        "                  'mens_swimming': [\"https://csidolphins.com/sports/mens-swimming-and-diving/roster/2023-2024?view=2\", \"https://yorkathletics.com/sports/mens-swimming-and-diving/roster\", \"https://athletics.baruch.cuny.edu/sports/mens-swimming-and-diving/roster\", \"https://www.brooklyncollegeathletics.com/sports/mens-swimming-and-diving/roster\", \"https://lindenwoodlions.com/sports/mens-swimming-and-diving/roster\", \"https://mckbearcats.com/sports/mens-swimming-and-diving/roster\", \"https://ramapoathletics.com/sports/mens-swimming-and-diving/roster\", \"https://oneontaathletics.com/sports/mens-swimming-and-diving/roster\", \"https://bubearcats.com/sports/mens-swimming-and-diving/roster/2021-22\", \"https://albrightathletics.com/sports/mens-swimming-and-diving/roster/2021-22\"],\n",
        "                  'womens_swimming': [\"https://csidolphins.com/sports/womens-swimming-and-diving/roster\", \"https://queensknights.com/sports/womens-swimming-and-diving/roster\", \"https://yorkathletics.com/sports/womens-swimming-and-diving/roster\", \"https://athletics.baruch.cuny.edu/sports/womens-swimming-and-diving/roster/2021-22?path=wswim\", \"https://www.brooklyncollegeathletics.com/sports/womens-swimming-and-diving/roster\", \"https://lindenwoodlions.com/sports/womens-swimming-and-diving/roster\", \"https://mckbearcats.com/sports/womens-swimming-and-diving/roster\", \"https://ramapoathletics.com/sports/womens-swimming-and-diving/roster\", \"https://keanathletics.com/sports/womens-swimming-and-diving/roster\", \"https://oneontaathletics.com/sports/womens-swimming-and-diving/roster\"]\n",
        "\n",
        "                }"
      ],
      "metadata": {
        "id": "KJ86e0FUzky_"
      },
      "execution_count": 23,
      "outputs": []
    },
    {
      "cell_type": "code",
      "source": [
        "# Set the URLs for each team\n",
        "\n",
        "menvolly_ccny = \"https://ccnyathletics.com/sports/mens-volleyball/roster\"\n",
        "menvolly_lehman =\"https://lehmanathletics.com/sports/mens-volleyball/roster\"\n",
        "menvolly_brkln=\"https://www.brooklyncollegeathletics.com/sports/mens-volleyball/roster\"\n",
        "menvolly_johnjay=\"https://johnjayathletics.com/sports/mens-volleyball/roster\"\n",
        "menvolly_baruch=\"https://athletics.baruch.cuny.edu/sports/mens-volleyball/roster\"\n",
        "menvolly_medgar=\"https://mecathletics.com/sports/mens-volleyball/roster\"\n",
        "menvolly_hunter=\"https://www.huntercollegeathletics.com/sports/mens-volleyball/roster\"\n",
        "menvolly_york=\"https://yorkathletics.com/sports/mens-volleyball/roster\"\n",
        "\n",
        "men_vollyeball_url = [menvolly_ccny, menvolly_lehman, menvolly_brkln, menvolly_johnjay, menvolly_baruch, menvolly_medgar, menvolly_hunter, menvolly_york]\n",
        "\n",
        "\n",
        "menswim_csi=\"https://csidolphins.com/sports/mens-swimming-and-diving/roster/2023-2024?view=2\"\n",
        "menswim_york=\"https://yorkathletics.com/sports/mens-swimming-and-diving/roster\"\n",
        "menswim_baruch=\"https://athletics.baruch.cuny.edu/sports/mens-swimming-and-diving/roster\"\n",
        "menswim_brkln=\"https://www.brooklyncollegeathletics.com/sports/mens-swimming-and-diving/roster\"\n",
        "menswim_liden=\"https://lindenwoodlions.com/sports/mens-swimming-and-diving/roster\"\n",
        "menswim_mckendree=\"https://mckbearcats.com/sports/mens-swimming-and-diving/roster\"\n",
        "menswim_rampo=\"https://ramapoathletics.com/sports/mens-swimming-and-diving/roster\"\n",
        "menswim_sunyoneota=\"https://oneontaathletics.com/sports/mens-swimming-and-diving/roster\"\n",
        "menswim_sunybht=\"https://bubearcats.com/sports/mens-swimming-and-diving/roster/2021-22\"\n",
        "menswim_albright=\"https://albrightathletics.com/sports/mens-swimming-and-diving/roster/2021-22\"\n",
        "\n",
        "men_swimming_url = [menswim_csi, menswim_york, menswim_baruch, menswim_brkln, menswim_liden, menswim_mckendree, menswim_rampo, menswim_sunyoneota, menswim_sunybht, menswim_albright]\n",
        "\n",
        "womenvolly_bmcc = \"https://bmccathletics.com/sports/womens-volleyball/roster\"\n",
        "womenvolly_york = \"https://yorkathletics.com/sports/womens-volleyball/roster\"\n",
        "womenvolly_hostos = \"https://hostosathletics.com/sports/womens-volleyball/roster\"\n",
        "womenvolly_bronx = \"https://bronxbroncos.com/sports/womens-volleyball/roster/2021\"\n",
        "womenvolly_queens = \"https://queensknights.com/sports/womens-volleyball/roster\"\n",
        "womenvolly_augusta = \"https://augustajags.com/sports/wvball/roster\"\n",
        "womenvolly_flagler = \"https://flaglerathletics.com/sports/womens-volleyball/roster\"\n",
        "womenvolly_usca = \"https://pacersports.com/sports/womens-volleyball/roster\"\n",
        "womenvolly_lhu = \"https://www.golhu.com/sports/womens-volleyball/roster\"\n",
        "\n",
        "women_vollyeball_url = [womenvolly_bmcc, womenvolly_york, womenvolly_hostos, womenvolly_bronx, womenvolly_queens, womenvolly_augusta, womenvolly_flagler, womenvolly_usca, womenvolly_lhu]\n",
        "\n",
        "womenswim_csi = \"https://csidolphins.com/sports/womens-swimming-and-diving/roster\"\n",
        "womenswim_queens = \"https://queensknights.com/sports/womens-swimming-and-diving/roster\"\n",
        "womenswim_york = \"https://yorkathletics.com/sports/womens-swimming-and-diving/roster\"\n",
        "womenswim_baruch = \"https://athletics.baruch.cuny.edu/sports/womens-swimming-and-diving/roster/2021-22?path=wswim\"\n",
        "womenswim_brkln = \"https://www.brooklyncollegeathletics.com/sports/womens-swimming-and-diving/roster\"\n",
        "womenswim_lindenwood = \"https://lindenwoodlions.com/sports/womens-swimming-and-diving/roster\"\n",
        "womenswim_mckendree = \"https://mckbearcats.com/sports/womens-swimming-and-diving/roster\"\n",
        "womenswim_ramapo = \"https://ramapoathletics.com/sports/womens-swimming-and-diving/roster\"\n",
        "womenswim_kean = \"https://keanathletics.com/sports/womens-swimming-and-diving/roster\"\n",
        "womenswim_oneonta = \"https://oneontaathletics.com/sports/womens-swimming-and-diving/roster\"\n",
        "\n",
        "women_swimming_url = [womenswim_csi, womenswim_queens, womenswim_york, womenswim_baruch, womenswim_brkln, womenswim_lindenwood, womenswim_mckendree, womenswim_ramapo, womenswim_kean, womenswim_oneonta]\n"
      ],
      "metadata": {
        "id": "PuOCuoW_o6yf"
      },
      "execution_count": 24,
      "outputs": []
    },
    {
      "cell_type": "code",
      "source": [
        "# Creating a function to scrape on URLs\n",
        "\n",
        "volleyball_men_names = []\n",
        "volleyball_men_heights =[]\n",
        "volleyball_women_names = []\n",
        "volleyball_women_heights =[]\n",
        "\n",
        "swimming_men_names =[]\n",
        "swimming_men_heights =[]\n",
        "swimming_women_names =[]\n",
        "swimming_women_heights =[]\n"
      ],
      "metadata": {
        "id": "1J6rLaUPjoHc"
      },
      "execution_count": 25,
      "outputs": []
    },
    {
      "cell_type": "markdown",
      "source": [
        "# Whenever we need to clean the variables\n",
        "volleyball_men_names.clear()\n",
        "volleyball_men_heights.clear()\n",
        "volleyball_women_names.clear()\n",
        "volleyball_women_heights.clear()\n",
        "swimming_men_names.clear()\n",
        "swimming_men_heights.clear()\n",
        "swimming_women_names.clear()\n",
        "swimming_women_heights.clear()"
      ],
      "metadata": {
        "id": "V3BfYMZHwAK9"
      }
    },
    {
      "cell_type": "code",
      "source": [
        "def scrape_team(url):\n",
        "\n",
        "  #for url in men_volleyball_url:\n",
        "\n",
        "  headers = {\n",
        "  'User-Agent': 'Mozilla/5.0 (Macintosh; Intel Mac OS X 10_15_7) AppleWebKit/537.36 (KHTML, like Gecko) Chrome/112.0.0.0 Safari/537.36',\n",
        "  'Accept': 'text/html,application/xhtml+xml,application/xml;q=0.9,image/webp,image/apng,*/*;q=0.8',\n",
        "  'Accept-Language': 'en-US,en;q=0.9',\n",
        "  'Connection': 'keep-alive'\n",
        "  }\n",
        "\n",
        "  # making a request to the server\n",
        "  page = requests.get(url, headers=headers, verify = False)\n",
        "  urllib3.disable_warnings(urllib3.exceptions.InsecureRequestWarning)\n",
        "\n",
        "  names =[]\n",
        "  heights =[]\n",
        "\n",
        "  # Check if the connection is successful\n",
        "  if page.status_code == 200:\n",
        "    soup = BeautifulSoup(page.text, 'html.parser')\n",
        "\n",
        "  # Find all td tags with names and heights\n",
        "    name_tags = soup.find_all('td', class_='sidearm-table-player-name')\n",
        "    raw_heights = soup.find_all('td', class_='height')\n",
        "\n",
        "  # Extracting the names from name_tags\n",
        "    for name_tag in name_tags:\n",
        "      names.append(name_tag.get_text().strip())\n",
        "\n",
        "  # Extracting the heights from the raw heights and split the string by text '-'\n",
        "    for height in raw_heights:\n",
        "      adhoc_heights = height.get_text().split('-')\n",
        "\n",
        "  # if there's a missing value, put nan\n",
        "      if len(adhoc_heights) > 1 and adhoc_heights[0] and adhoc_heights[1]:\n",
        "        feet = int(adhoc_heights[0]) * 12\n",
        "        inch = int(adhoc_heights[1])\n",
        "        height_inches = feet + inch\n",
        "      else:\n",
        "        height_inches = math.nan\n",
        "\n",
        "    # append the values to a list\n",
        "      heights.append(height_inches)\n",
        "\n",
        "  return names, heights\n",
        "\n",
        "# Volleyball loop\n",
        "for gender, urls in volleyball_teams.items():\n",
        "  for url in urls:\n",
        "    names, heights = scrape_team(url)\n",
        "    if gender == 'mens_volleyball':\n",
        "      volleyball_men_names.extend(names)\n",
        "      volleyball_men_heights.extend(heights)\n",
        "    elif gender == 'womens_volleyball':\n",
        "      volleyball_women_names.extend(names)\n",
        "      volleyball_women_heights.extend(heights)\n",
        "\n",
        "# Swimming loop\n",
        "for gender, urls in swimming_teams.items():\n",
        "  for url in urls:\n",
        "    names, heights = scrape_team(url)\n",
        "    if gender == 'mens_swimming':\n",
        "      swimming_men_names.extend(names)\n",
        "      swimming_men_heights.extend(heights)\n",
        "    elif gender == 'womens_swimming':\n",
        "      swimming_women_names.extend(names)\n",
        "      swimming_women_heights.extend(heights)\n",
        "\n",
        "\n",
        "\n",
        "# Organize the data as a dictionary and need to make it a series to avoid lenght matching error for df\n",
        "\n",
        "  volleyball_players = {\n",
        "            'Men_name': pd.Series(volleyball_men_names),\n",
        "            'Men_height': pd.Series(volleyball_men_heights),\n",
        "            'Women_name': pd.Series(volleyball_women_names),\n",
        "            'Women_height': pd.Series(volleyball_women_heights)\n",
        "}\n",
        "\n",
        "  swimming_players = {\n",
        "            'Men_name': pd.Series(swimming_men_names),\n",
        "            'Men_height': pd.Series(swimming_men_heights),\n",
        "            'Women_name':  pd.Series(swimming_women_names),\n",
        "            'Women_height': pd.Series(swimming_women_heights)\n",
        "}\n",
        "\n",
        "\n"
      ],
      "metadata": {
        "id": "Y9DeU2OnqQtG"
      },
      "execution_count": 26,
      "outputs": []
    },
    {
      "cell_type": "code",
      "source": [
        "# check elements in the dictionaries\n",
        "print((swimming_players[\"Men_name\"]))\n",
        "\n",
        "\n"
      ],
      "metadata": {
        "colab": {
          "base_uri": "https://localhost:8080/"
        },
        "id": "xHb8CtCs_lUt",
        "outputId": "0092c5e9-9632-4df7-c140-bf73d8931132"
      },
      "execution_count": 27,
      "outputs": [
        {
          "output_type": "stream",
          "name": "stdout",
          "text": [
            "0      Anthony Attenborough\n",
            "1              James Curran\n",
            "2          Charles Cusumano\n",
            "3           David Fayngersh\n",
            "4            Michael Graham\n",
            "               ...         \n",
            "189          Kieran Hassard\n",
            "190           Anthony Laite\n",
            "191          Drew MacDonald\n",
            "192             Kyle Morken\n",
            "193        Peter Vanderwerf\n",
            "Length: 194, dtype: object\n"
          ]
        }
      ]
    },
    {
      "cell_type": "code",
      "source": [
        "volleyball_players_df = pd.DataFrame(volleyball_players)\n",
        "swimming_players_df = pd.DataFrame(swimming_players)"
      ],
      "metadata": {
        "id": "np6DdYXY6y5i"
      },
      "execution_count": 28,
      "outputs": []
    },
    {
      "cell_type": "code",
      "source": [
        "volleyball_players_df.head()"
      ],
      "metadata": {
        "id": "BCc-9chi7krA",
        "colab": {
          "base_uri": "https://localhost:8080/",
          "height": 260
        },
        "outputId": "18800928-ef7a-415a-dee5-2aa2736ae335"
      },
      "execution_count": 29,
      "outputs": [
        {
          "output_type": "execute_result",
          "data": {
            "text/plain": [
              "         Men_name  Men_height        Women_name  Women_height\n",
              "0  Shakib Delowar        71.0  Emmanuella Aurel          61.0\n",
              "1  Brandon  Green        72.0   Bianca Zwerlein          65.0\n",
              "2      Reng  Chen        69.0     Kavana Liburd          63.0\n",
              "3    Anirudha Das        68.0  Ja-nya Breagreen          59.0\n",
              "4   Gabriel Linus        75.0   Valerie Reynoso          63.0"
            ],
            "text/html": [
              "\n",
              "  <div id=\"df-fdeb8612-48a8-49ff-ae32-7f2da8b559e2\" class=\"colab-df-container\">\n",
              "    <div>\n",
              "<style scoped>\n",
              "    .dataframe tbody tr th:only-of-type {\n",
              "        vertical-align: middle;\n",
              "    }\n",
              "\n",
              "    .dataframe tbody tr th {\n",
              "        vertical-align: top;\n",
              "    }\n",
              "\n",
              "    .dataframe thead th {\n",
              "        text-align: right;\n",
              "    }\n",
              "</style>\n",
              "<table border=\"1\" class=\"dataframe\">\n",
              "  <thead>\n",
              "    <tr style=\"text-align: right;\">\n",
              "      <th></th>\n",
              "      <th>Men_name</th>\n",
              "      <th>Men_height</th>\n",
              "      <th>Women_name</th>\n",
              "      <th>Women_height</th>\n",
              "    </tr>\n",
              "  </thead>\n",
              "  <tbody>\n",
              "    <tr>\n",
              "      <th>0</th>\n",
              "      <td>Shakib Delowar</td>\n",
              "      <td>71.0</td>\n",
              "      <td>Emmanuella Aurel</td>\n",
              "      <td>61.0</td>\n",
              "    </tr>\n",
              "    <tr>\n",
              "      <th>1</th>\n",
              "      <td>Brandon  Green</td>\n",
              "      <td>72.0</td>\n",
              "      <td>Bianca Zwerlein</td>\n",
              "      <td>65.0</td>\n",
              "    </tr>\n",
              "    <tr>\n",
              "      <th>2</th>\n",
              "      <td>Reng  Chen</td>\n",
              "      <td>69.0</td>\n",
              "      <td>Kavana Liburd</td>\n",
              "      <td>63.0</td>\n",
              "    </tr>\n",
              "    <tr>\n",
              "      <th>3</th>\n",
              "      <td>Anirudha Das</td>\n",
              "      <td>68.0</td>\n",
              "      <td>Ja-nya Breagreen</td>\n",
              "      <td>59.0</td>\n",
              "    </tr>\n",
              "    <tr>\n",
              "      <th>4</th>\n",
              "      <td>Gabriel Linus</td>\n",
              "      <td>75.0</td>\n",
              "      <td>Valerie Reynoso</td>\n",
              "      <td>63.0</td>\n",
              "    </tr>\n",
              "  </tbody>\n",
              "</table>\n",
              "</div>\n",
              "    <div class=\"colab-df-buttons\">\n",
              "\n",
              "  <div class=\"colab-df-container\">\n",
              "    <button class=\"colab-df-convert\" onclick=\"convertToInteractive('df-fdeb8612-48a8-49ff-ae32-7f2da8b559e2')\"\n",
              "            title=\"Convert this dataframe to an interactive table.\"\n",
              "            style=\"display:none;\">\n",
              "\n",
              "  <svg xmlns=\"http://www.w3.org/2000/svg\" height=\"24px\" viewBox=\"0 -960 960 960\">\n",
              "    <path d=\"M120-120v-720h720v720H120Zm60-500h600v-160H180v160Zm220 220h160v-160H400v160Zm0 220h160v-160H400v160ZM180-400h160v-160H180v160Zm440 0h160v-160H620v160ZM180-180h160v-160H180v160Zm440 0h160v-160H620v160Z\"/>\n",
              "  </svg>\n",
              "    </button>\n",
              "\n",
              "  <style>\n",
              "    .colab-df-container {\n",
              "      display:flex;\n",
              "      gap: 12px;\n",
              "    }\n",
              "\n",
              "    .colab-df-convert {\n",
              "      background-color: #E8F0FE;\n",
              "      border: none;\n",
              "      border-radius: 50%;\n",
              "      cursor: pointer;\n",
              "      display: none;\n",
              "      fill: #1967D2;\n",
              "      height: 32px;\n",
              "      padding: 0 0 0 0;\n",
              "      width: 32px;\n",
              "    }\n",
              "\n",
              "    .colab-df-convert:hover {\n",
              "      background-color: #E2EBFA;\n",
              "      box-shadow: 0px 1px 2px rgba(60, 64, 67, 0.3), 0px 1px 3px 1px rgba(60, 64, 67, 0.15);\n",
              "      fill: #174EA6;\n",
              "    }\n",
              "\n",
              "    .colab-df-buttons div {\n",
              "      margin-bottom: 4px;\n",
              "    }\n",
              "\n",
              "    [theme=dark] .colab-df-convert {\n",
              "      background-color: #3B4455;\n",
              "      fill: #D2E3FC;\n",
              "    }\n",
              "\n",
              "    [theme=dark] .colab-df-convert:hover {\n",
              "      background-color: #434B5C;\n",
              "      box-shadow: 0px 1px 3px 1px rgba(0, 0, 0, 0.15);\n",
              "      filter: drop-shadow(0px 1px 2px rgba(0, 0, 0, 0.3));\n",
              "      fill: #FFFFFF;\n",
              "    }\n",
              "  </style>\n",
              "\n",
              "    <script>\n",
              "      const buttonEl =\n",
              "        document.querySelector('#df-fdeb8612-48a8-49ff-ae32-7f2da8b559e2 button.colab-df-convert');\n",
              "      buttonEl.style.display =\n",
              "        google.colab.kernel.accessAllowed ? 'block' : 'none';\n",
              "\n",
              "      async function convertToInteractive(key) {\n",
              "        const element = document.querySelector('#df-fdeb8612-48a8-49ff-ae32-7f2da8b559e2');\n",
              "        const dataTable =\n",
              "          await google.colab.kernel.invokeFunction('convertToInteractive',\n",
              "                                                    [key], {});\n",
              "        if (!dataTable) return;\n",
              "\n",
              "        const docLinkHtml = 'Like what you see? Visit the ' +\n",
              "          '<a target=\"_blank\" href=https://colab.research.google.com/notebooks/data_table.ipynb>data table notebook</a>'\n",
              "          + ' to learn more about interactive tables.';\n",
              "        element.innerHTML = '';\n",
              "        dataTable['output_type'] = 'display_data';\n",
              "        await google.colab.output.renderOutput(dataTable, element);\n",
              "        const docLink = document.createElement('div');\n",
              "        docLink.innerHTML = docLinkHtml;\n",
              "        element.appendChild(docLink);\n",
              "      }\n",
              "    </script>\n",
              "  </div>\n",
              "\n",
              "\n",
              "    <div id=\"df-049fb98f-68f7-4b40-b4fc-a6120dbb4014\">\n",
              "      <button class=\"colab-df-quickchart\" onclick=\"quickchart('df-049fb98f-68f7-4b40-b4fc-a6120dbb4014')\"\n",
              "                title=\"Suggest charts\"\n",
              "                style=\"display:none;\">\n",
              "\n",
              "<svg xmlns=\"http://www.w3.org/2000/svg\" height=\"24px\"viewBox=\"0 0 24 24\"\n",
              "     width=\"24px\">\n",
              "    <g>\n",
              "        <path d=\"M19 3H5c-1.1 0-2 .9-2 2v14c0 1.1.9 2 2 2h14c1.1 0 2-.9 2-2V5c0-1.1-.9-2-2-2zM9 17H7v-7h2v7zm4 0h-2V7h2v10zm4 0h-2v-4h2v4z\"/>\n",
              "    </g>\n",
              "</svg>\n",
              "      </button>\n",
              "\n",
              "<style>\n",
              "  .colab-df-quickchart {\n",
              "      --bg-color: #E8F0FE;\n",
              "      --fill-color: #1967D2;\n",
              "      --hover-bg-color: #E2EBFA;\n",
              "      --hover-fill-color: #174EA6;\n",
              "      --disabled-fill-color: #AAA;\n",
              "      --disabled-bg-color: #DDD;\n",
              "  }\n",
              "\n",
              "  [theme=dark] .colab-df-quickchart {\n",
              "      --bg-color: #3B4455;\n",
              "      --fill-color: #D2E3FC;\n",
              "      --hover-bg-color: #434B5C;\n",
              "      --hover-fill-color: #FFFFFF;\n",
              "      --disabled-bg-color: #3B4455;\n",
              "      --disabled-fill-color: #666;\n",
              "  }\n",
              "\n",
              "  .colab-df-quickchart {\n",
              "    background-color: var(--bg-color);\n",
              "    border: none;\n",
              "    border-radius: 50%;\n",
              "    cursor: pointer;\n",
              "    display: none;\n",
              "    fill: var(--fill-color);\n",
              "    height: 32px;\n",
              "    padding: 0;\n",
              "    width: 32px;\n",
              "  }\n",
              "\n",
              "  .colab-df-quickchart:hover {\n",
              "    background-color: var(--hover-bg-color);\n",
              "    box-shadow: 0 1px 2px rgba(60, 64, 67, 0.3), 0 1px 3px 1px rgba(60, 64, 67, 0.15);\n",
              "    fill: var(--button-hover-fill-color);\n",
              "  }\n",
              "\n",
              "  .colab-df-quickchart-complete:disabled,\n",
              "  .colab-df-quickchart-complete:disabled:hover {\n",
              "    background-color: var(--disabled-bg-color);\n",
              "    fill: var(--disabled-fill-color);\n",
              "    box-shadow: none;\n",
              "  }\n",
              "\n",
              "  .colab-df-spinner {\n",
              "    border: 2px solid var(--fill-color);\n",
              "    border-color: transparent;\n",
              "    border-bottom-color: var(--fill-color);\n",
              "    animation:\n",
              "      spin 1s steps(1) infinite;\n",
              "  }\n",
              "\n",
              "  @keyframes spin {\n",
              "    0% {\n",
              "      border-color: transparent;\n",
              "      border-bottom-color: var(--fill-color);\n",
              "      border-left-color: var(--fill-color);\n",
              "    }\n",
              "    20% {\n",
              "      border-color: transparent;\n",
              "      border-left-color: var(--fill-color);\n",
              "      border-top-color: var(--fill-color);\n",
              "    }\n",
              "    30% {\n",
              "      border-color: transparent;\n",
              "      border-left-color: var(--fill-color);\n",
              "      border-top-color: var(--fill-color);\n",
              "      border-right-color: var(--fill-color);\n",
              "    }\n",
              "    40% {\n",
              "      border-color: transparent;\n",
              "      border-right-color: var(--fill-color);\n",
              "      border-top-color: var(--fill-color);\n",
              "    }\n",
              "    60% {\n",
              "      border-color: transparent;\n",
              "      border-right-color: var(--fill-color);\n",
              "    }\n",
              "    80% {\n",
              "      border-color: transparent;\n",
              "      border-right-color: var(--fill-color);\n",
              "      border-bottom-color: var(--fill-color);\n",
              "    }\n",
              "    90% {\n",
              "      border-color: transparent;\n",
              "      border-bottom-color: var(--fill-color);\n",
              "    }\n",
              "  }\n",
              "</style>\n",
              "\n",
              "      <script>\n",
              "        async function quickchart(key) {\n",
              "          const quickchartButtonEl =\n",
              "            document.querySelector('#' + key + ' button');\n",
              "          quickchartButtonEl.disabled = true;  // To prevent multiple clicks.\n",
              "          quickchartButtonEl.classList.add('colab-df-spinner');\n",
              "          try {\n",
              "            const charts = await google.colab.kernel.invokeFunction(\n",
              "                'suggestCharts', [key], {});\n",
              "          } catch (error) {\n",
              "            console.error('Error during call to suggestCharts:', error);\n",
              "          }\n",
              "          quickchartButtonEl.classList.remove('colab-df-spinner');\n",
              "          quickchartButtonEl.classList.add('colab-df-quickchart-complete');\n",
              "        }\n",
              "        (() => {\n",
              "          let quickchartButtonEl =\n",
              "            document.querySelector('#df-049fb98f-68f7-4b40-b4fc-a6120dbb4014 button');\n",
              "          quickchartButtonEl.style.display =\n",
              "            google.colab.kernel.accessAllowed ? 'block' : 'none';\n",
              "        })();\n",
              "      </script>\n",
              "    </div>\n",
              "\n",
              "    </div>\n",
              "  </div>\n"
            ],
            "application/vnd.google.colaboratory.intrinsic+json": {
              "type": "dataframe",
              "variable_name": "volleyball_players_df",
              "summary": "{\n  \"name\": \"volleyball_players_df\",\n  \"rows\": 130,\n  \"fields\": [\n    {\n      \"column\": \"Men_name\",\n      \"properties\": {\n        \"dtype\": \"string\",\n        \"num_unique_values\": 103,\n        \"samples\": [\n          \"Farid Akhundov\",\n          \"David Tang\",\n          \"Kairos Liang\"\n        ],\n        \"semantic_type\": \"\",\n        \"description\": \"\"\n      }\n    },\n    {\n      \"column\": \"Men_height\",\n      \"properties\": {\n        \"dtype\": \"number\",\n        \"std\": 3.446084693452685,\n        \"min\": 64.0,\n        \"max\": 80.0,\n        \"num_unique_values\": 17,\n        \"samples\": [\n          71.0,\n          72.0,\n          67.0\n        ],\n        \"semantic_type\": \"\",\n        \"description\": \"\"\n      }\n    },\n    {\n      \"column\": \"Women_name\",\n      \"properties\": {\n        \"dtype\": \"string\",\n        \"num_unique_values\": 130,\n        \"samples\": [\n          \"Elizabeth Cerullo\",\n          \"Breanna Kimbrough\",\n          \"Jachimma Onwuamaegbu\"\n        ],\n        \"semantic_type\": \"\",\n        \"description\": \"\"\n      }\n    },\n    {\n      \"column\": \"Women_height\",\n      \"properties\": {\n        \"dtype\": \"number\",\n        \"std\": 3.6152545953879494,\n        \"min\": 59.0,\n        \"max\": 75.0,\n        \"num_unique_values\": 16,\n        \"samples\": [\n          61.0,\n          65.0,\n          66.0\n        ],\n        \"semantic_type\": \"\",\n        \"description\": \"\"\n      }\n    }\n  ]\n}"
            }
          },
          "metadata": {},
          "execution_count": 29
        }
      ]
    },
    {
      "cell_type": "code",
      "source": [
        "swimming_players_df.head()"
      ],
      "metadata": {
        "colab": {
          "base_uri": "https://localhost:8080/",
          "height": 260
        },
        "id": "hL1WvvgyFJ5G",
        "outputId": "eb443528-8f52-49ba-aefa-3d1e99a9d21f"
      },
      "execution_count": 30,
      "outputs": [
        {
          "output_type": "execute_result",
          "data": {
            "text/plain": [
              "               Men_name  Men_height           Women_name  Women_height\n",
              "0  Anthony Attenborough        70.0   Aurelia Barbagallo           NaN\n",
              "1          James Curran        69.0        Nicole Conroy           NaN\n",
              "2      Charles Cusumano        64.0  Jacqueline DeFranco           NaN\n",
              "3       David Fayngersh        70.0         Alexis Doyle           NaN\n",
              "4        Michael Graham        70.0    Katherine Ebrahim           NaN"
            ],
            "text/html": [
              "\n",
              "  <div id=\"df-f9cb4706-c77a-4766-8bea-80a005ce89ad\" class=\"colab-df-container\">\n",
              "    <div>\n",
              "<style scoped>\n",
              "    .dataframe tbody tr th:only-of-type {\n",
              "        vertical-align: middle;\n",
              "    }\n",
              "\n",
              "    .dataframe tbody tr th {\n",
              "        vertical-align: top;\n",
              "    }\n",
              "\n",
              "    .dataframe thead th {\n",
              "        text-align: right;\n",
              "    }\n",
              "</style>\n",
              "<table border=\"1\" class=\"dataframe\">\n",
              "  <thead>\n",
              "    <tr style=\"text-align: right;\">\n",
              "      <th></th>\n",
              "      <th>Men_name</th>\n",
              "      <th>Men_height</th>\n",
              "      <th>Women_name</th>\n",
              "      <th>Women_height</th>\n",
              "    </tr>\n",
              "  </thead>\n",
              "  <tbody>\n",
              "    <tr>\n",
              "      <th>0</th>\n",
              "      <td>Anthony Attenborough</td>\n",
              "      <td>70.0</td>\n",
              "      <td>Aurelia Barbagallo</td>\n",
              "      <td>NaN</td>\n",
              "    </tr>\n",
              "    <tr>\n",
              "      <th>1</th>\n",
              "      <td>James Curran</td>\n",
              "      <td>69.0</td>\n",
              "      <td>Nicole Conroy</td>\n",
              "      <td>NaN</td>\n",
              "    </tr>\n",
              "    <tr>\n",
              "      <th>2</th>\n",
              "      <td>Charles Cusumano</td>\n",
              "      <td>64.0</td>\n",
              "      <td>Jacqueline DeFranco</td>\n",
              "      <td>NaN</td>\n",
              "    </tr>\n",
              "    <tr>\n",
              "      <th>3</th>\n",
              "      <td>David Fayngersh</td>\n",
              "      <td>70.0</td>\n",
              "      <td>Alexis Doyle</td>\n",
              "      <td>NaN</td>\n",
              "    </tr>\n",
              "    <tr>\n",
              "      <th>4</th>\n",
              "      <td>Michael Graham</td>\n",
              "      <td>70.0</td>\n",
              "      <td>Katherine Ebrahim</td>\n",
              "      <td>NaN</td>\n",
              "    </tr>\n",
              "  </tbody>\n",
              "</table>\n",
              "</div>\n",
              "    <div class=\"colab-df-buttons\">\n",
              "\n",
              "  <div class=\"colab-df-container\">\n",
              "    <button class=\"colab-df-convert\" onclick=\"convertToInteractive('df-f9cb4706-c77a-4766-8bea-80a005ce89ad')\"\n",
              "            title=\"Convert this dataframe to an interactive table.\"\n",
              "            style=\"display:none;\">\n",
              "\n",
              "  <svg xmlns=\"http://www.w3.org/2000/svg\" height=\"24px\" viewBox=\"0 -960 960 960\">\n",
              "    <path d=\"M120-120v-720h720v720H120Zm60-500h600v-160H180v160Zm220 220h160v-160H400v160Zm0 220h160v-160H400v160ZM180-400h160v-160H180v160Zm440 0h160v-160H620v160ZM180-180h160v-160H180v160Zm440 0h160v-160H620v160Z\"/>\n",
              "  </svg>\n",
              "    </button>\n",
              "\n",
              "  <style>\n",
              "    .colab-df-container {\n",
              "      display:flex;\n",
              "      gap: 12px;\n",
              "    }\n",
              "\n",
              "    .colab-df-convert {\n",
              "      background-color: #E8F0FE;\n",
              "      border: none;\n",
              "      border-radius: 50%;\n",
              "      cursor: pointer;\n",
              "      display: none;\n",
              "      fill: #1967D2;\n",
              "      height: 32px;\n",
              "      padding: 0 0 0 0;\n",
              "      width: 32px;\n",
              "    }\n",
              "\n",
              "    .colab-df-convert:hover {\n",
              "      background-color: #E2EBFA;\n",
              "      box-shadow: 0px 1px 2px rgba(60, 64, 67, 0.3), 0px 1px 3px 1px rgba(60, 64, 67, 0.15);\n",
              "      fill: #174EA6;\n",
              "    }\n",
              "\n",
              "    .colab-df-buttons div {\n",
              "      margin-bottom: 4px;\n",
              "    }\n",
              "\n",
              "    [theme=dark] .colab-df-convert {\n",
              "      background-color: #3B4455;\n",
              "      fill: #D2E3FC;\n",
              "    }\n",
              "\n",
              "    [theme=dark] .colab-df-convert:hover {\n",
              "      background-color: #434B5C;\n",
              "      box-shadow: 0px 1px 3px 1px rgba(0, 0, 0, 0.15);\n",
              "      filter: drop-shadow(0px 1px 2px rgba(0, 0, 0, 0.3));\n",
              "      fill: #FFFFFF;\n",
              "    }\n",
              "  </style>\n",
              "\n",
              "    <script>\n",
              "      const buttonEl =\n",
              "        document.querySelector('#df-f9cb4706-c77a-4766-8bea-80a005ce89ad button.colab-df-convert');\n",
              "      buttonEl.style.display =\n",
              "        google.colab.kernel.accessAllowed ? 'block' : 'none';\n",
              "\n",
              "      async function convertToInteractive(key) {\n",
              "        const element = document.querySelector('#df-f9cb4706-c77a-4766-8bea-80a005ce89ad');\n",
              "        const dataTable =\n",
              "          await google.colab.kernel.invokeFunction('convertToInteractive',\n",
              "                                                    [key], {});\n",
              "        if (!dataTable) return;\n",
              "\n",
              "        const docLinkHtml = 'Like what you see? Visit the ' +\n",
              "          '<a target=\"_blank\" href=https://colab.research.google.com/notebooks/data_table.ipynb>data table notebook</a>'\n",
              "          + ' to learn more about interactive tables.';\n",
              "        element.innerHTML = '';\n",
              "        dataTable['output_type'] = 'display_data';\n",
              "        await google.colab.output.renderOutput(dataTable, element);\n",
              "        const docLink = document.createElement('div');\n",
              "        docLink.innerHTML = docLinkHtml;\n",
              "        element.appendChild(docLink);\n",
              "      }\n",
              "    </script>\n",
              "  </div>\n",
              "\n",
              "\n",
              "    <div id=\"df-ecddb82f-1f34-463a-91bc-3b53f595634e\">\n",
              "      <button class=\"colab-df-quickchart\" onclick=\"quickchart('df-ecddb82f-1f34-463a-91bc-3b53f595634e')\"\n",
              "                title=\"Suggest charts\"\n",
              "                style=\"display:none;\">\n",
              "\n",
              "<svg xmlns=\"http://www.w3.org/2000/svg\" height=\"24px\"viewBox=\"0 0 24 24\"\n",
              "     width=\"24px\">\n",
              "    <g>\n",
              "        <path d=\"M19 3H5c-1.1 0-2 .9-2 2v14c0 1.1.9 2 2 2h14c1.1 0 2-.9 2-2V5c0-1.1-.9-2-2-2zM9 17H7v-7h2v7zm4 0h-2V7h2v10zm4 0h-2v-4h2v4z\"/>\n",
              "    </g>\n",
              "</svg>\n",
              "      </button>\n",
              "\n",
              "<style>\n",
              "  .colab-df-quickchart {\n",
              "      --bg-color: #E8F0FE;\n",
              "      --fill-color: #1967D2;\n",
              "      --hover-bg-color: #E2EBFA;\n",
              "      --hover-fill-color: #174EA6;\n",
              "      --disabled-fill-color: #AAA;\n",
              "      --disabled-bg-color: #DDD;\n",
              "  }\n",
              "\n",
              "  [theme=dark] .colab-df-quickchart {\n",
              "      --bg-color: #3B4455;\n",
              "      --fill-color: #D2E3FC;\n",
              "      --hover-bg-color: #434B5C;\n",
              "      --hover-fill-color: #FFFFFF;\n",
              "      --disabled-bg-color: #3B4455;\n",
              "      --disabled-fill-color: #666;\n",
              "  }\n",
              "\n",
              "  .colab-df-quickchart {\n",
              "    background-color: var(--bg-color);\n",
              "    border: none;\n",
              "    border-radius: 50%;\n",
              "    cursor: pointer;\n",
              "    display: none;\n",
              "    fill: var(--fill-color);\n",
              "    height: 32px;\n",
              "    padding: 0;\n",
              "    width: 32px;\n",
              "  }\n",
              "\n",
              "  .colab-df-quickchart:hover {\n",
              "    background-color: var(--hover-bg-color);\n",
              "    box-shadow: 0 1px 2px rgba(60, 64, 67, 0.3), 0 1px 3px 1px rgba(60, 64, 67, 0.15);\n",
              "    fill: var(--button-hover-fill-color);\n",
              "  }\n",
              "\n",
              "  .colab-df-quickchart-complete:disabled,\n",
              "  .colab-df-quickchart-complete:disabled:hover {\n",
              "    background-color: var(--disabled-bg-color);\n",
              "    fill: var(--disabled-fill-color);\n",
              "    box-shadow: none;\n",
              "  }\n",
              "\n",
              "  .colab-df-spinner {\n",
              "    border: 2px solid var(--fill-color);\n",
              "    border-color: transparent;\n",
              "    border-bottom-color: var(--fill-color);\n",
              "    animation:\n",
              "      spin 1s steps(1) infinite;\n",
              "  }\n",
              "\n",
              "  @keyframes spin {\n",
              "    0% {\n",
              "      border-color: transparent;\n",
              "      border-bottom-color: var(--fill-color);\n",
              "      border-left-color: var(--fill-color);\n",
              "    }\n",
              "    20% {\n",
              "      border-color: transparent;\n",
              "      border-left-color: var(--fill-color);\n",
              "      border-top-color: var(--fill-color);\n",
              "    }\n",
              "    30% {\n",
              "      border-color: transparent;\n",
              "      border-left-color: var(--fill-color);\n",
              "      border-top-color: var(--fill-color);\n",
              "      border-right-color: var(--fill-color);\n",
              "    }\n",
              "    40% {\n",
              "      border-color: transparent;\n",
              "      border-right-color: var(--fill-color);\n",
              "      border-top-color: var(--fill-color);\n",
              "    }\n",
              "    60% {\n",
              "      border-color: transparent;\n",
              "      border-right-color: var(--fill-color);\n",
              "    }\n",
              "    80% {\n",
              "      border-color: transparent;\n",
              "      border-right-color: var(--fill-color);\n",
              "      border-bottom-color: var(--fill-color);\n",
              "    }\n",
              "    90% {\n",
              "      border-color: transparent;\n",
              "      border-bottom-color: var(--fill-color);\n",
              "    }\n",
              "  }\n",
              "</style>\n",
              "\n",
              "      <script>\n",
              "        async function quickchart(key) {\n",
              "          const quickchartButtonEl =\n",
              "            document.querySelector('#' + key + ' button');\n",
              "          quickchartButtonEl.disabled = true;  // To prevent multiple clicks.\n",
              "          quickchartButtonEl.classList.add('colab-df-spinner');\n",
              "          try {\n",
              "            const charts = await google.colab.kernel.invokeFunction(\n",
              "                'suggestCharts', [key], {});\n",
              "          } catch (error) {\n",
              "            console.error('Error during call to suggestCharts:', error);\n",
              "          }\n",
              "          quickchartButtonEl.classList.remove('colab-df-spinner');\n",
              "          quickchartButtonEl.classList.add('colab-df-quickchart-complete');\n",
              "        }\n",
              "        (() => {\n",
              "          let quickchartButtonEl =\n",
              "            document.querySelector('#df-ecddb82f-1f34-463a-91bc-3b53f595634e button');\n",
              "          quickchartButtonEl.style.display =\n",
              "            google.colab.kernel.accessAllowed ? 'block' : 'none';\n",
              "        })();\n",
              "      </script>\n",
              "    </div>\n",
              "\n",
              "    </div>\n",
              "  </div>\n"
            ],
            "application/vnd.google.colaboratory.intrinsic+json": {
              "type": "dataframe",
              "variable_name": "swimming_players_df",
              "summary": "{\n  \"name\": \"swimming_players_df\",\n  \"rows\": 194,\n  \"fields\": [\n    {\n      \"column\": \"Men_name\",\n      \"properties\": {\n        \"dtype\": \"string\",\n        \"num_unique_values\": 193,\n        \"samples\": [\n          \"Stuart Xu\",\n          \"Ross Caimano\",\n          \"Piotr Kowalczyk\"\n        ],\n        \"semantic_type\": \"\",\n        \"description\": \"\"\n      }\n    },\n    {\n      \"column\": \"Men_height\",\n      \"properties\": {\n        \"dtype\": \"number\",\n        \"std\": 2.8964217905419014,\n        \"min\": 63.0,\n        \"max\": 79.0,\n        \"num_unique_values\": 17,\n        \"samples\": [\n          70.0,\n          69.0,\n          73.0\n        ],\n        \"semantic_type\": \"\",\n        \"description\": \"\"\n      }\n    },\n    {\n      \"column\": \"Women_name\",\n      \"properties\": {\n        \"dtype\": \"string\",\n        \"num_unique_values\": 142,\n        \"samples\": [\n          \"Alexis Gibson\",\n          \"Alexis Hall\",\n          \"Chiara Fuerst\"\n        ],\n        \"semantic_type\": \"\",\n        \"description\": \"\"\n      }\n    },\n    {\n      \"column\": \"Women_height\",\n      \"properties\": {\n        \"dtype\": \"number\",\n        \"std\": 3.123248820634096,\n        \"min\": 58.0,\n        \"max\": 74.0,\n        \"num_unique_values\": 16,\n        \"samples\": [\n          61.0,\n          64.0,\n          69.0\n        ],\n        \"semantic_type\": \"\",\n        \"description\": \"\"\n      }\n    }\n  ]\n}"
            }
          },
          "metadata": {},
          "execution_count": 30
        }
      ]
    },
    {
      "cell_type": "code",
      "source": [
        "volleyball_players_df.to_csv(\"Volleyball_Players.csv\", index=False)\n",
        "swimming_players_df.to_csv(\"Swimming_Players.csv\", index=False)"
      ],
      "metadata": {
        "id": "CHqa0X_TFNXM"
      },
      "execution_count": 31,
      "outputs": []
    },
    {
      "cell_type": "code",
      "source": [
        "swim = pd.read_csv(\"Swimming_Players.csv\")\n",
        "vball = pd.read_csv(\"Volleyball_Players.csv\")\n",
        "\n",
        "men_swim = swim[[\"Men_name\", \"Men_height\"]].dropna()\n",
        "women_swim = swim[[\"Women_name\", \"Women_height\"]].dropna()\n",
        "men_vball = vball[[\"Men_name\", \"Men_height\"]].dropna()\n",
        "women_vball = vball[[\"Women_name\", \"Women_height\"]].dropna()\n",
        "\n",
        "men_swim.columns = [\"name\", \"height_in\"]\n",
        "women_swim.columns = [\"name\", \"height_in\"]\n",
        "men_vball.columns = [\"name\", \"height_in\"]\n",
        "women_vball.columns = [\"name\", \"height_in\"]"
      ],
      "metadata": {
        "id": "TGxnmQbK7cwo"
      },
      "execution_count": 40,
      "outputs": []
    },
    {
      "cell_type": "code",
      "source": [
        "men_swim.to_csv(\"men_swimming.csv\", index=False)\n",
        "women_swim.to_csv(\"women_swimming.csv\", index=False)\n",
        "men_vball.to_csv(\"men_volleyball.csv\", index=False)\n",
        "women_vball.to_csv(\"women_volleyball.csv\", index=False)"
      ],
      "metadata": {
        "id": "v-3CZpA873Us"
      },
      "execution_count": 33,
      "outputs": []
    },
    {
      "cell_type": "code",
      "source": [
        "avg_men_swim = men_swim[\"height_in\"].mean()\n",
        "avg_women_swim = women_swim[\"height_in\"].mean()\n",
        "avg_men_vball = men_vball[\"height_in\"].mean()\n",
        "avg_women_vball = women_vball[\"height_in\"].mean()\n",
        "\n",
        "print(\"Average Men Swim Height:\", avg_men_swim)\n",
        "print(\"Average Women Swim Height:\", avg_women_swim)\n",
        "print(\"Average Men Volleyball Height:\", avg_men_vball)\n",
        "print(\"Average Women Volleyball Height:\", avg_women_vball)"
      ],
      "metadata": {
        "colab": {
          "base_uri": "https://localhost:8080/"
        },
        "id": "QjnfU1y58AtJ",
        "outputId": "babc2caa-b1af-4126-95cb-b723bac46d3d"
      },
      "execution_count": 35,
      "outputs": [
        {
          "output_type": "stream",
          "name": "stdout",
          "text": [
            "Average Men Swim Height: 71.07865168539325\n",
            "Average Women Swim Height: 65.75206611570248\n",
            "Average Men Volleyball Height: 71.2135922330097\n",
            "Average Women Volleyball Height: 68.34375\n"
          ]
        }
      ]
    },
    {
      "cell_type": "code",
      "source": [
        "print(\"Tallest Men Swimmers:\")\n",
        "print(men_swim.nlargest(5, \"height_in\"))"
      ],
      "metadata": {
        "colab": {
          "base_uri": "https://localhost:8080/"
        },
        "id": "UQ6BFPTQ8Szy",
        "outputId": "83491b7e-f157-43de-d687-bc59296a656a"
      },
      "execution_count": 37,
      "outputs": [
        {
          "output_type": "stream",
          "name": "stdout",
          "text": [
            "Tallest Men Swimmers:\n",
            "                     name  height_in\n",
            "120           Tyson Upton       79.0\n",
            "100         Colton Grimes       78.0\n",
            "118  Domantas  Tarnauskas       77.0\n",
            "171            Eric Kroon       77.0\n",
            "70      Mattia Giurgevich       76.0\n"
          ]
        }
      ]
    },
    {
      "cell_type": "code",
      "source": [
        "print(\"Shortest Men Swimmers:\")\n",
        "print(men_swim.nsmallest(5, \"height_in\"))"
      ],
      "metadata": {
        "colab": {
          "base_uri": "https://localhost:8080/"
        },
        "id": "tqCkaU6t8UQl",
        "outputId": "a0bfa806-baf2-45a4-bbc5-c605d69cc028"
      },
      "execution_count": 39,
      "outputs": [
        {
          "output_type": "stream",
          "name": "stdout",
          "text": [
            "Shortest Men Swimmers:\n",
            "                name  height_in\n",
            "96   Miles Fleischer       63.0\n",
            "2   Charles Cusumano       64.0\n",
            "34       Samuel Liao       65.0\n",
            "36      Eric Mayzlin       65.0\n",
            "45         Stuart Xu       65.0\n"
          ]
        }
      ]
    },
    {
      "cell_type": "code",
      "source": [
        "print(\"Tallest Women Swimmers:\")\n",
        "print(women_swim.nlargest(5, \"height_in\"))"
      ],
      "metadata": {
        "colab": {
          "base_uri": "https://localhost:8080/"
        },
        "id": "LuwliZjK8i9a",
        "outputId": "4b3a71b4-eaff-4d72-c220-f03ae0483460"
      },
      "execution_count": 41,
      "outputs": [
        {
          "output_type": "stream",
          "name": "stdout",
          "text": [
            "Tallest Women Swimmers:\n",
            "                 name  height_in\n",
            "80     McKenzie Fazio       74.0\n",
            "66    Maja Piotrowicz       73.0\n",
            "38  Ayatallah Elkotby       72.0\n",
            "51    Kornelia Buszka       71.0\n",
            "76    Bianka Bukovics       71.0\n"
          ]
        }
      ]
    },
    {
      "cell_type": "code",
      "source": [
        "print(\"Shortest Women Swimmers:\")\n",
        "print(women_swim.nsmallest(5, \"height_in\"))"
      ],
      "metadata": {
        "colab": {
          "base_uri": "https://localhost:8080/"
        },
        "id": "ZsxNddab8shK",
        "outputId": "26964ed3-5ca7-4b45-e723-0fec7ab40592"
      },
      "execution_count": 42,
      "outputs": [
        {
          "output_type": "stream",
          "name": "stdout",
          "text": [
            "Shortest Women Swimmers:\n",
            "                 name  height_in\n",
            "23        Nakia Usher       58.0\n",
            "24        Julia Wyman       58.0\n",
            "22  Melanie Rodriguez       59.0\n",
            "12         Asha Besaw       61.0\n",
            "18     Kristen Flores       61.0\n"
          ]
        }
      ]
    },
    {
      "cell_type": "code",
      "source": [
        "print(\"Tallest Men Volleyball Players:\")\n",
        "print(men_vball.nlargest(5, \"height_in\"))"
      ],
      "metadata": {
        "colab": {
          "base_uri": "https://localhost:8080/"
        },
        "id": "LMfB_29W8xcU",
        "outputId": "231d4954-f3a2-4466-dc94-8b96ccbb8eae"
      },
      "execution_count": 43,
      "outputs": [
        {
          "output_type": "stream",
          "name": "stdout",
          "text": [
            "Tallest Men Volleyball Players:\n",
            "                name  height_in\n",
            "40  Joaquin Calderon       80.0\n",
            "88    Annes Deljanin       79.0\n",
            "74       Wyatt Kotuk       78.0\n",
            "38         Jason Lin       77.0\n",
            "56       Adam Bainey       77.0\n"
          ]
        }
      ]
    },
    {
      "cell_type": "code",
      "source": [
        "print(\"Shortest Men Volleyball Players:\")\n",
        "print(men_vball.nsmallest(5, \"height_in\"))"
      ],
      "metadata": {
        "colab": {
          "base_uri": "https://localhost:8080/"
        },
        "id": "j2HKsv1u80BZ",
        "outputId": "97dcc1bf-4fbe-4898-a5c0-c314123d99e1"
      },
      "execution_count": 44,
      "outputs": [
        {
          "output_type": "stream",
          "name": "stdout",
          "text": [
            "Shortest Men Volleyball Players:\n",
            "                       name  height_in\n",
            "16             Levi Rosario       64.0\n",
            "18  Joseph Gianfranco Teves       65.0\n",
            "28          Dion  Csikortos       65.0\n",
            "34              Ali Zandani       66.0\n",
            "42        Eugene  Villarruz       66.0\n"
          ]
        }
      ]
    },
    {
      "cell_type": "code",
      "source": [
        "print(\"Tallest Women Volleyball Players:\")\n",
        "print(women_vball.nlargest(5, \"height_in\"))\n"
      ],
      "metadata": {
        "colab": {
          "base_uri": "https://localhost:8080/"
        },
        "id": "L14PNQNu87Oq",
        "outputId": "1dc02a33-1277-4bad-8f2a-bcac27e9d091"
      },
      "execution_count": 46,
      "outputs": [
        {
          "output_type": "stream",
          "name": "stdout",
          "text": [
            "Tallest Women Volleyball Players:\n",
            "                   name  height_in\n",
            "49       Nourhan Hadjeb       75.0\n",
            "58  Jayna Marie Lorenzo       75.0\n",
            "71    Sydney Harrington       75.0\n",
            "57       Jonaida Donowa       74.0\n",
            "91        Cassidy Bloom       74.0\n"
          ]
        }
      ]
    },
    {
      "cell_type": "code",
      "source": [
        "print(\"Shortest Women Volleyball Players:\")\n",
        "print(women_vball.nsmallest(5, \"height_in\"))"
      ],
      "metadata": {
        "colab": {
          "base_uri": "https://localhost:8080/"
        },
        "id": "aIsW5Eg389mt",
        "outputId": "c7dbbcbf-67c9-474e-8fea-7bd55ca8a4a3"
      },
      "execution_count": 45,
      "outputs": [
        {
          "output_type": "stream",
          "name": "stdout",
          "text": [
            "Shortest Women Volleyball Players:\n",
            "                     name  height_in\n",
            "3        Ja-nya Breagreen       59.0\n",
            "0        Emmanuella Aurel       61.0\n",
            "37   Maynee De Los Santos       61.0\n",
            "60             Sarah Munn       61.0\n",
            "104      Tucker Patterson       62.0\n"
          ]
        }
      ]
    },
    {
      "cell_type": "code",
      "source": [],
      "metadata": {
        "id": "6VVNg8NC8_z6"
      },
      "execution_count": null,
      "outputs": []
    }
  ]
}